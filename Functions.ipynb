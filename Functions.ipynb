{
 "cells": [
  {
   "cell_type": "markdown",
   "metadata": {},
   "source": [
    "<h1>ฟังก์ชัน (Functions)</h1>\n",
    "<p><strong>Functions</strong><br>\n",
    "    <pre>ฟังก์ชั่น หรือ บางครั้งเราเรียกว่า โปรแกรมย่อย มีความสำคัญมาก เมื่อเราเขียนโปรแกรมได้สักระยะ เราจะเห็นว่าโปรแกรมของเราจะมีจำนวนบรรทัดมากขึ้น ยากแก่การตรวจสอบแก้ไขข้อผิดพลาด ทางออกคือ ต้องสร้างเป็นส่วนย่อยๆ เพื่อสะดวกในการแก้ไขและหาข้อผิดพลาดได้ง่าย </pre>\n",
    "<p>ฟังก์ชั่นแบ่งออกเป็น 2 ประเภท</p>\n",
    "<ol>\n",
    "    <li>ฟังก์ชั่นที่ผู้เขียนโปรแกรมสร้างขึ้นเอง (User Defined Functions)</li>\n",
    "    <li>ฟังก์ชั่นที่สร้างจากผู้อื่นถูกเก็บไว้ในไลบรารี (Library) มีทั้งนำมาใช้ได้ฟรี (Open Source) และมีค่าใช้จ่าย (Commercial)</li>\n",
    "</ol>\n",
    "\n",
    "</p>"
   ]
  },
  {
   "cell_type": "markdown",
   "metadata": {},
   "source": [
    "<h2>การสร้างฟังก์ชั่นขึ้นมาใช้งาน (Creating Function)</h2>\n",
    "<p>\n",
    "    การสร้างฟังก์ชั่นสามารถแบ่งวิธีการสร้างและการทำงานของฟังก์ชั่นออกได้ 4 รูปแบบ คือ\n",
    "</p>\n"
   ]
  },
  {
   "cell_type": "markdown",
   "metadata": {},
   "source": [
    "1. การสร้างฟังก์ชั่นที่ไม่มีการส่งค่าและรับค่า<br><br>\n",
    "ตัวอย่างที่ 12.1 โปรแกรมแสดงข้อความ Hello โดยไม่มีการส่งค่าและรับค่า"
   ]
  },
  {
   "cell_type": "code",
   "execution_count": null,
   "metadata": {},
   "outputs": [],
   "source": [
    "def show_greeting1():\n",
    "    print (\"Hello\")\n",
    "show_greeting1()"
   ]
  },
  {
   "cell_type": "markdown",
   "metadata": {},
   "source": [
    "2. การสร้างฟังก์ชั่นที่ไม่มีการส่งค่าแต่มีการรับค่า<br><br>\n",
    "ตัวอย่างที่ 12.2 โปรแกรมแสดงข้อความ Hello โดยมีการส่งค่าชื่อ ไต่ไม่มีการรับค่า"
   ]
  },
  {
   "cell_type": "code",
   "execution_count": null,
   "metadata": {},
   "outputs": [],
   "source": [
    "def show_greeting2(name):\n",
    "    print (\"Hello\", name)\n",
    "show_greeting2(\"Doraemon\")"
   ]
  },
  {
   "cell_type": "markdown",
   "metadata": {},
   "source": [
    "3. การสร้างฟังก์ชั่นที่มีการส่งค่าแต่ไม่มีการรับค่า<br><br>\n",
    "ตัวอย่างที่ 12.3 โปรแกรมแสดงข้อความ ที่ส่งกลับมาจากฟังก์ชั่นด้วยคำสั่ง return"
   ]
  },
  {
   "cell_type": "code",
   "execution_count": null,
   "metadata": {},
   "outputs": [],
   "source": [
    "def show_greeting3():\n",
    "    greeting =\"Hello, how are you?\"\n",
    "    return greeting\n",
    "print (show_greeting3())"
   ]
  },
  {
   "cell_type": "markdown",
   "metadata": {},
   "source": [
    "4. การสร้างฟังก์ชั่นที่มีการส่งค่ากลับและมีการรับค่า<br><br>\n",
    "ตัวอย่างที่ 12.4 โปรแกรมที่มีการส่งอาร์กิวเมนต์ให้กับพารามิเตอร์ และมีการส่งค่ากลับมายังโปรแกรมที่เรียกใช้งาน ด้วยคำสั่ง return"
   ]
  },
  {
   "cell_type": "code",
   "execution_count": null,
   "metadata": {},
   "outputs": [],
   "source": [
    "def show_greeting4(name):\n",
    "    greeting_name = \"Hello, \" + name + \" How are you?\"\n",
    "    return greeting_name\n",
    "print (show_greeting4(\"Doraemon.\"))"
   ]
  },
  {
   "cell_type": "markdown",
   "metadata": {},
   "source": [
    "<h2>ข้อควรจำ</h2>\n",
    "<p><strong>อาร์กิวเมนต์ (Argument)</strong><br>\n",
    "    <pre>คือ ค่าตัวแปร หรือ ค่าคงที่ ที่ใช้สำหรับส่งค่าไปยังฟังก์ชั่นที่เรียกใช้งาน เพื่อนำไปประมวลผลต่อ ค่าอาร์กิวเมนต์จะถูกแนบส่งไปพร้อมกับชื่อฟังก์ชั่นอยู่ในเครื่องหมายวงเล็บ หากมีอาร์กิวเมนต์หลายตัวจะคั่นด้วยเครื่องหมาย comma (,) </pre>\n",
    "<p><strong>พารามิเตอร์ (Parameter)</strong><br>\n",
    "    <pre>คือ ตัวแปรที่ประกาศไว้รอรับค่าอาร์กิวเมนต์ อยู่ในเครื่องหมายวงเล็บหลังชื่อฟังก์ชั่น หากมีพารามิเตอร์หลายตัวจะคั่นด้วยเครื่องหมาย comma (,) </pre>\n",
    "<!--<img src=\"img/argument.png\",width=60,height=60>-->\n",
    "<img src=\"img/argument.png\">"
   ]
  },
  {
   "cell_type": "markdown",
   "metadata": {},
   "source": [
    "<h3>การส่งค่าอาร์กิวเมนต์มี 2 วิธี คือ</h3><br>\n",
    "<h4>1.การส่งค่าข้อมูล (Call by Value)</h4><br>\n",
    "<pre>ค่าอาร์กิวเมนต์จะถูกทำการ copy แล้วส่งให้กับพารามิเตอร์ของฟังก์ชันที่เราเรียกใช้งาน จำนวนพารามิเตอร์ต้งเท่ากับจำนวนอาร์กิวเมนต์ที่ส่งมาให้ การเปลี่ยนแปลงค่าพารามิเตอร์ภายในฟังก์ชัน จะไม่มีผลกระทบค่าอาร์กิวเมนต์เมื่อมีการส่งค่ากลับ การส่งค่าอาร์กิวเมนต์แบบนี้ทำให้สิ้นเปลืองเนื้อที่ในหน่วยความจำ</pre>\n",
    "\n",
    "<h4>2.การส่งค่าแบบอ้างอิง (Call by Reference)</h4><br>\n",
    "<pre>ใช้กับข้อมูลชนิดออปเจ็ค โดยส่งค่าตำแหน่งอาร์กิวเมนต์ในหน่วยความจำ ไปให้กับพารามิเตอร์ในฟังก์ชันที่เรียกใช้งาน เมื่อมีการเปลี่ยนแปลงข้อมูลของค่าพารามิเตอร์จะทำให้อาร์กิวเมนต์ที่ส่งไปเปลี่ยนตามไปด้วย การส่งอาร์กิวเมนต์แบบนี้มีข้อดีคือ ประหยัดเนื้อที่ในหน่วยความจำ เพราะค่าอาร์กิวเมนต์ไม่ต้องมีการ copy อีกชุดหนึ่งเหมือนกับวิธีการแบบแรก และลดเวลาในการประมวลผลข้อมูล</pre>\n",
    "\n"
   ]
  },
  {
   "cell_type": "markdown",
   "metadata": {},
   "source": [
    "ตัวอย่างที่ 12.5 การส่งค่าแบบ Call by Value"
   ]
  },
  {
   "cell_type": "code",
   "execution_count": null,
   "metadata": {},
   "outputs": [],
   "source": [
    "r = int(input(\"ป้อนค่ารัศมี : \"))\n",
    "h = int(input(\"ป้อนค่าความสูง : \"))\n",
    "def cylinder():\n",
    "    area = 3.14 * (r * r) * h\n",
    "    return area\n",
    "print (\"ปริมาตรทรงกระบอก = \", cylinder(), \"ตารางเมตร\")"
   ]
  },
  {
   "cell_type": "markdown",
   "metadata": {},
   "source": [
    "ตัวอย่างที่ 12.6 การส่งค่าอาร์กิวเมนต์ให้กับค่าพารามิเตอร์ไปยังฟังก์ชันที่เรียกใช้งาน เป็นชนิดข้อมูลลิสต์ซึ่งเป็นชนิดข้อมูลที่สามารถเปลี่ยนแปลงได้ โดยการเพิ่มข้อมูลเข้าไปในลิสต์ด้วยเมธอด append()"
   ]
  },
  {
   "cell_type": "code",
   "execution_count": null,
   "metadata": {},
   "outputs": [],
   "source": [
    "def msg(f_lst):\n",
    "    print (\"ค่่าพารามิเตอร์ที่รับมาจาก arg_lst =\", f_lst)\n",
    "    f_lst.append(\"easy to learn.\")\n",
    "    print (\"เปลี่ยนค่าพารามิเตอร์ = \", f_lst)\n",
    "\n",
    "arg_lst = [\"Python is\"]\n",
    "print (\"ค่าอาร์กิวเมนต์ที่ส่งให้ค่าพารามิเตอร์ =\", arg_lst)\n",
    "msg(arg_lst)\n",
    "print (\"ค่าอาร์กิวเมนต์หลังจากเปลี่ยนค่าพารามิเตอร์ =\", arg_lst)"
   ]
  },
  {
   "cell_type": "markdown",
   "metadata": {},
   "source": [
    "ตัวอย่างที่ 12.7 การส่งค่าอาร์กิวเมนต์ให้กับค่าพารามิเตอร์ไปยังฟังก์ชันที่เรียกใช้งาน เป็นชนิดข้อมูลลิสต์ซึ่งเป็นชนิดข้อมูลที่สามารถเปลี่ยนแปลงได้ โดยการเพิ่มข้อมูลเข้าไปในลิสต์ด้วยการระบุตำแหน่ง"
   ]
  },
  {
   "cell_type": "code",
   "execution_count": null,
   "metadata": {},
   "outputs": [],
   "source": [
    "def msg(f_lst):\n",
    "    print (\"ค่่าพารามิเตอร์ที่รับมาจาก arg_lst =\", f_lst)\n",
    "    f_lst[0] = \"Python is a powerful programming language.\"\n",
    "    print (\"เปลี่ยนค่าพารามิเตอร์ = \", f_lst)\n",
    "\n",
    "arg_lst = [\"Python is easy to learn.\"]\n",
    "print (\"ค่าอาร์กิวเมนต์ที่ส่งให้ค่าพารามิเตอร์ =\", arg_lst)\n",
    "msg(arg_lst)\n",
    "print (\"ค่าอาร์กิวเมนต์หลังจากเปลี่ยนค่าพารามิเตอร์ =\", arg_lst)"
   ]
  },
  {
   "cell_type": "markdown",
   "metadata": {},
   "source": [
    "<h3>รูปแบบการส่งค่าอาร์กิวเมนต์ให้กับค่าพารามิเตอร์</h3>\n",
    "\n",
    "<h4>การส่งค่าอาร์กิวเมนต์แบบ Required arguments</h4>\n",
    "<pre>เป็นการส่งอาร์กิวเมนต์ให้พารามิเตอร์ ตามชนิดข้อมูล และลำดับ โดยต้องมีจำนวนเท่ากันด้วย ดังตัวอย่างที่ 12.8</pre>\n",
    "<h4>การส่งค่าอาร์กิวเมนต์แบบ Keyword arguments</h4>\n",
    "<pre>เป็นการส่งอาร์กิวเมนต์ให้พารามิเตอร์ได้โดยไม่ต้องเรียงลำดับ แต่ต้องมีชื่อเดียวกันและต้องมีจำนวนเท่ากัน ดังตัวอย่างที่ 12.9</pre>\n",
    "<h4>การส่งค่าอาร์กิวเมนต์แบบ Default arguments</h4>\n",
    "<pre>มีค่าพารามิเตอร์บางตัวถูกกำหนดค่าไว้ล่วงหน้า ซึ่งเมื่อเรียกใช้ก็จะส่งค่าอาร์กิวเมนต์เฉพาะจำนวนที่เหลือให้พารามิเตอร์เท่านั้น ดังตัวอย่างที่ 12.10</pre>\n",
    "<h4>การส่งค่าอาร์กิวเมนต์แบบ Variable-length arguments</h4>\n",
    "<pre>เป็นการสร้างพารามิเตอร์ไว้รับค่าอาร์กิวเมนต์แบบไม่จำกัดจำนวน โดยชื่อพารามิเตอร์ต้องมีเครื่องหมาย (*)นำหน้า ดังตัวอย่างที่ 12.11</pre>"
   ]
  },
  {
   "cell_type": "markdown",
   "metadata": {},
   "source": [
    "ตัวอย่างที่ 12.8"
   ]
  },
  {
   "cell_type": "code",
   "execution_count": null,
   "metadata": {},
   "outputs": [],
   "source": [
    "def req_arg(numlst, str_, num):\n",
    "    print (\"แสดงค่าข้อมูลในลิสต์ =\", numlst)\n",
    "    print (\"แสดงค่าข้อมูลในตัวแปร num =\", num)\n",
    "    print (\"แสดค่าข้อมูลในตัวแปร str_ =\", str_)\n",
    "\n",
    "lst = [1,2,3]; msg = \"Python\"\n",
    "req_arg(lst, msg, 50)"
   ]
  },
  {
   "cell_type": "markdown",
   "metadata": {},
   "source": [
    "ตัวอย่างที่ 12.9"
   ]
  },
  {
   "cell_type": "code",
   "execution_count": null,
   "metadata": {},
   "outputs": [],
   "source": [
    "def key_arg(lst, msg, num):\n",
    "    print(\"แสดงค่าข้อมูลในลิสต์ =\", lst)\n",
    "    print(\"แสดงค่าข้อมูลในตัวแปร num =\", num)\n",
    "    print(\"แสดงค่าข้อมูลในตัวแปร msg =\", msg)\n",
    "\n",
    "\n",
    "key_arg(lst=[1, 2, 3], num=10, msg=\"Python is easy\")"
   ]
  },
  {
   "cell_type": "markdown",
   "metadata": {},
   "source": [
    "ตัวอย่างที่ 12.10"
   ]
  },
  {
   "cell_type": "code",
   "execution_count": null,
   "metadata": {},
   "outputs": [],
   "source": [
    "def def_arg(r, pi=3.14):\n",
    "    result = 2* pi * r\n",
    "    print(\"เส้นรอบวงกลม =\", result)\n",
    "def_arg(7)"
   ]
  },
  {
   "cell_type": "markdown",
   "metadata": {},
   "source": [
    "ตัวอย่างที่ 12.11"
   ]
  },
  {
   "cell_type": "code",
   "execution_count": null,
   "metadata": {},
   "outputs": [],
   "source": [
    "def varleng_arg(*num):\n",
    "    print(\"จำนวนข้อมูลในตัวแปร num :\")\n",
    "    for var in num:\n",
    "        print(var, end=\" \")\n",
    "    print(\" \")\n",
    "    result = num[2] * 2\n",
    "    print(\"ผลคูณพารามิเตอร์ num[2] * 2 =\", result)\n",
    "\n",
    "varleng_arg(10, 20, 30, 40)"
   ]
  },
  {
   "cell_type": "markdown",
   "metadata": {},
   "source": [
    "<h2>Lambda Expressions</h2>\n",
    "<p>Lambda Expressions คือ anonymous function ที่เป็นฟังก์ชันที่มีการทำงานขนาดเล็กอยู่ภายในที่สามารถมีได้เพียง Expression เดียวเท่านั้น เราสามารถสร้างโดยใช้คำสั่ง <code>lambda</code> เราสามารถใช้ Lambda Expressions สร้างออบเจ็คของฟังก์ชันได้ และค่า return จะเป็นค่าที่ได้จากผลลัพธ์ของ Expression ของฟังก์ชัน  มาดูตัวอย่างการใช้งาน</p>\n",
    "<pre><code >f = lambda x: x + 1\n",
    "print(f(2))\n",
    "print(f(8))\n",
    "\n",
    "g = lambda a, b: (a + b) / 2\n",
    "print(g(3, 5))\n",
    "print(g(10, 33))\n",
    "\n",
    "def make_incrementor(n):\n",
    "    return lambda x: x + n\n",
    "\n",
    "f = make_incrementor(13)\n",
    "print(f(0))\n",
    "print(f(1))\n",
    "print(f(5))</code></pre>\n",
    "<p>ในตัวอย่าง เราได้สร้าง Lambda Expressions เป็นจำนวนสามฟังก์ชัน ฟังก์ชันแรกเป็นฟังก์ชันสำหรับเพิ่มตัวเลขขึ้น 1 และฟังก์ชันที่สองเป็นฟังก์ชันสำหรับหาค่าเฉลี่ยของตัวเลขสองจำนวน คุณจะสังเกตุได้ว่าฟังก์ชันแรกนั้นมี 1 อาร์กิวเมนต์และฟังก์ชันที่สองนั้นมี 2 อาร์กิวเมนต์ และฟังก์ชันสุดท้ายนั้นเป็นการ return ฟังก์ชันกลับภายในฟังก์ชันอีกที และเป็นฟังก์ชันสำหรับเพิ่มตัวเลขขึ้นจำนวน n จากอาร์กิวเมนต์ที่ใส่เข้าไป</p>\n",
    "<pre><code >3\n",
    "9\n",
    "4.0\n",
    "21.5\n",
    "13\n",
    "14\n",
    "18</code></pre>\n",
    "<p>นี่เป็นผลลัพธ์การทำงานของโปรแกรม</p>\n",
    "<p>นอกจากนี้ Lambda Expressions ยังมีประโยชน์เพื่อใช้งานกับ built-in function เช่น ฟังก์ชัน <code>filter()</code> และฟังก์ชัน <code>map()</code>  ในภาษา Python มันใช้เป็นอาร์กิวเมนต์ส่งเข้าไปในฟังก์ชัน เพื่อสร้าง Expression ให้กับฟังก์ชัน มาดูตัวอย่างการใช้งาน</p>\n",
    "<pre><code >numbers = [2, 15, 5, 7, 10, 3, 28, 30]\n",
    "print(list(filter(lambda x: x % 5 == 0, numbers)))\n",
    "print(list(map(lambda x: x * 2, numbers)))</code></pre>"
   ]
  },
  {
   "cell_type": "markdown",
   "metadata": {},
   "source": [
    "ตัวอย่างที่ 12.12 การสร้างฟังก์ชัน lambda หาปริมาตรทรงกระบอก"
   ]
  },
  {
   "cell_type": "code",
   "execution_count": null,
   "metadata": {},
   "outputs": [],
   "source": [
    "area = lambda r, h: 3.14 * (r*r) * h\n",
    "print (\"ปริมาตรทรงกระบอกที่ 1 = \", area(3,5))\n",
    "print (\"ปริมาตรทรงกระบอกที่ 2 = \", area(8,12))\n",
    "print (\"ปริมาตรทรงกระบอกที่ 3 = \", area(9,15))"
   ]
  },
  {
   "cell_type": "markdown",
   "metadata": {},
   "source": [
    "ตัวอย่างที่ 12.13 การสร้างฟังก์ชัน lambda ที่ไม่มีการส่งค่าอาร์กิวเมนต์"
   ]
  },
  {
   "cell_type": "code",
   "execution_count": null,
   "metadata": {},
   "outputs": [],
   "source": [
    "area = lambda: 3.14 * 5 * 5 * 10\n",
    "print (\"ปริมาตรทรงกระบอก = \", area())"
   ]
  },
  {
   "cell_type": "markdown",
   "metadata": {},
   "source": [
    "ตัวอย่างที่ 12.14 การสร้างฟังก์ชัน lambda ครั้งละหลายๆ ฟังก์ชั่น ที่อยู่ภายในชนิดข้อมูลลิสต์"
   ]
  },
  {
   "cell_type": "code",
   "execution_count": null,
   "metadata": {},
   "outputs": [],
   "source": [
    "area = [lambda r, h: 3.14 * (r * r) * h,\n",
    "       lambda r: 3.14 * (r * r),\n",
    "       lambda b, h: 0.5 * b * h,\n",
    "       lambda w, h: w * h]\n",
    "print (\"ปริมาตรทรงกระบอก = \", area[0](5, 6), \"ตารางเมตร\")\n",
    "print (\"พื้นที่วงกลม = \", area[1](3), \"ตารางเมตร\")\n",
    "print (\"พื้นที่สามเหลี่ยม = \", area[2](5, 7), \"ตารางเมตร\")\n",
    "print (\"พื้นที่สี่เหลี่ยมผืนผ้า = \", area[3](10, 12), \"ตารางเมตร\")"
   ]
  },
  {
   "cell_type": "markdown",
   "metadata": {},
   "source": [
    "ตัวอย่างที่ 12.15 การสร้างตัวแปรโกลบอลและการเรียกใช้งาน โดยฟังก์ชัน cylinder"
   ]
  },
  {
   "cell_type": "code",
   "execution_count": null,
   "metadata": {},
   "outputs": [],
   "source": [
    "r = int(input(\"ป้อนค่ารัศมี : \"))\n",
    "h = int(input(\"ป้อนค่าความสูง : \"))\n",
    "def cylinder():\n",
    "    area = 3.14 * (r * r) * h\n",
    "    return area\n",
    "print (\"ปริมาตรทรงกระบอก = \", cylinder(), \"ตารางเมตร\")"
   ]
  },
  {
   "cell_type": "markdown",
   "metadata": {},
   "source": [
    "ตัวอย่างที่ 12.16 การสร้างตัวแปรโลคอลขึ้นมาใช้งานภายในฟังก์ชัน และการเรียกใช้งานตัวแปรข้ามฟังก์ชัน"
   ]
  },
  {
   "cell_type": "code",
   "execution_count": null,
   "metadata": {},
   "outputs": [],
   "source": [
    "def circle_area():\n",
    "    global r; r = 10\n",
    "    global pi; pi = 3.14\n",
    "    result = pi * (r * r)\n",
    "    return result\n",
    "def circumference():\n",
    "    result = 2 * pi * r\n",
    "    return result\n",
    "print (\"พื้นที่วงกลม = \", circle_area(), \"ตารางเมตร\")\n",
    "print (\"เส้นรอบวงวงกลม = %.3f\" %circumference(), \"เมตร\")"
   ]
  },
  {
   "cell_type": "markdown",
   "metadata": {},
   "source": [
    "ตัวอย่างที่ 12.17 การสร้างตัวแปรโลคอลและโกลบอลที่มีชื่อเหมือนกัน"
   ]
  },
  {
   "cell_type": "code",
   "execution_count": null,
   "metadata": {},
   "outputs": [],
   "source": [
    "cash = int(input(\"ป้อนจำนวนเงิน : \"))\n",
    "vat = 0.07\n",
    "total = cash - (cash * vat)\n",
    "def cash(cash):\n",
    "    total = cash - (cash * vat)\n",
    "    return total\n",
    "print (\"ชำระเป็นจำนวนเงิน = \", cash(5000), \"บาท\")\n",
    "print (\"ชำระเป็นจำนวนเงิน = \", total, \"บาท\")"
   ]
  },
  {
   "cell_type": "markdown",
   "metadata": {},
   "source": [
    "ตัวอย่างที่ 12.18 การสร้างตัวแปรโลคอลที่มีชื่อเหมือนกัน แต่ใช้เฉพาะในฟังก์ชันของใครของมัน ไม่เกี่ยวกัน"
   ]
  },
  {
   "cell_type": "code",
   "execution_count": null,
   "metadata": {},
   "outputs": [],
   "source": [
    "def bonus_1(m, ot):\n",
    "    total =  (m + (ot * 20)) * 0.5\n",
    "    salary = total + m\n",
    "    return salary\n",
    "def bonus_2(m, ot):\n",
    "    total =  (m + (ot * 20)) * 0.2\n",
    "    salary = total + m\n",
    "    return salary\n",
    "\n",
    "print (\"เงินเดือนที่ได้รับสุทธิ = \", bonus_1(12000, 5), \"บาท\")\n",
    "print (\"เงินเดือนที่ได้รับสุทธิ = \", bonus_2(20000, 5), \"บาท\")"
   ]
  },
  {
   "cell_type": "markdown",
   "metadata": {},
   "source": [
    "<h4>สรุป</h4>\n",
    "<p>ฟังก์ชันเป็นส่วนหนึ่งที่มีความสำคัญในการพัฒนาโปรแกรม ซึ่งในเนื้อหาตอนนี้ได้แนะนำวิธีการสร้างฟังก์ชันขึ้นมาใช้งานแบบต่างๆ เช่น การสร้างฟังก์ชั่นที่ไม่มีการส่งค่า การสร้างฟังก์ชั่นที่ไม่มีการคืนค่า การสร้างฟังก์ชั่นที่มีการรรับค่าแต่ไม่มีการส่งค่ากลับ เป็นต้น นอกจากนี้ยังได้รู้จักกับวิธีการส่งค่าอาร์กิวเมนต์ให้กับค่าพารามิเตอร์ และยังได้รู้จักวิธีการสร้างค่าพารามิเตอร์ไว้รอรับค่าอาร์กิวเมนต์ รวมไปถึงสร้างฟังก์ชันที่ไม่ต้องกำหนดชื่อ ด้วย <code>lambda</code> ทำให้ลดเวลาในการเขียนคำสั่งโปรแกรม ซึ่งที่กล่าวมาทั้งหมดนี้ ไม่ต้องใช้คำสั่ง import เลย</p>"
   ]
  },
  {
   "cell_type": "code",
   "execution_count": null,
   "metadata": {},
   "outputs": [],
   "source": []
  }
 ],
 "metadata": {
  "kernelspec": {
   "display_name": "Python 3",
   "language": "python",
   "name": "python3"
  },
  "language_info": {
   "codemirror_mode": {
    "name": "ipython",
    "version": 3
   },
   "file_extension": ".py",
   "mimetype": "text/x-python",
   "name": "python",
   "nbconvert_exporter": "python",
   "pygments_lexer": "ipython3",
   "version": "3.7.3"
  }
 },
 "nbformat": 4,
 "nbformat_minor": 2
}
