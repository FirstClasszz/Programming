{
 "cells": [
  {
   "cell_type": "code",
   "execution_count": 1,
   "metadata": {},
   "outputs": [
    {
     "name": "stdout",
     "output_type": "stream",
     "text": [
      "SUPAKORN BUATIM \n",
      "From Angthong\n"
     ]
    }
   ],
   "source": [
    "print(\"SUPAKORN BUATIM \")\n",
    "print(\"From Angthong\")"
   ]
  },
  {
   "cell_type": "code",
   "execution_count": 2,
   "metadata": {},
   "outputs": [
    {
     "name": "stdout",
     "output_type": "stream",
     "text": [
      "**********************************************\n",
      "*           WELCOME TO   SUPKAORN B.STORE              *\n",
      "**********************************************\n",
      "BANANA............................................................15 THB\n",
      "JACK FRUIT.......................................................32 THB\n",
      "COFFEE.............................................................65 THB\n",
      "MILK.................................................................10 THB\n",
      "COLA................................................................25 THB\n",
      "BEER...............................................................100 THB\n",
      "SODA..................................................................8 THB\n",
      "ICE.....................................................................7 THB\n",
      "\n",
      "\n",
      "*****************THANK YOU*******************\n"
     ]
    }
   ],
   "source": [
    "print(\"**********************************************\")\n",
    "print(\"*           WELCOME TO   SUPKAORN B.STORE              *\")\n",
    "print(\"**********************************************\")\n",
    "print(\"BANANA............................................................15 THB\")\n",
    "print(\"JACK FRUIT.......................................................32 THB\")\n",
    "print(\"COFFEE.............................................................65 THB\")\n",
    "print(\"MILK.................................................................10 THB\")\n",
    "print(\"COLA................................................................25 THB\")\n",
    "print(\"BEER...............................................................100 THB\")\n",
    "print(\"SODA..................................................................8 THB\")\n",
    "print(\"ICE.....................................................................7 THB\")\n",
    "print(\"\")\n",
    "print(\"\")\n",
    "print(\"*****************THANK YOU*******************\")\n"
   ]
  },
  {
   "cell_type": "code",
   "execution_count": 3,
   "metadata": {},
   "outputs": [
    {
     "ename": "SyntaxError",
     "evalue": "invalid syntax (<ipython-input-3-be0f6c824e9b>, line 1)",
     "output_type": "error",
     "traceback": [
      "\u001b[1;36m  File \u001b[1;32m\"<ipython-input-3-be0f6c824e9b>\"\u001b[1;36m, line \u001b[1;32m1\u001b[0m\n\u001b[1;33m    print(type(HELLO WOLD))\u001b[0m\n\u001b[1;37m                        ^\u001b[0m\n\u001b[1;31mSyntaxError\u001b[0m\u001b[1;31m:\u001b[0m invalid syntax\n"
     ]
    }
   ],
   "source": [
    "print(type(HELLO WOLD))"
   ]
  },
  {
   "cell_type": "code",
   "execution_count": 4,
   "metadata": {},
   "outputs": [
    {
     "name": "stdout",
     "output_type": "stream",
     "text": [
      "<class 'str'>\n"
     ]
    }
   ],
   "source": [
    "print(type(\"HELLO WOLD\"))"
   ]
  },
  {
   "cell_type": "code",
   "execution_count": 5,
   "metadata": {},
   "outputs": [
    {
     "name": "stdout",
     "output_type": "stream",
     "text": [
      "<class 'float'>\n"
     ]
    }
   ],
   "source": [
    "print(type(5.12))"
   ]
  },
  {
   "cell_type": "code",
   "execution_count": 6,
   "metadata": {},
   "outputs": [
    {
     "name": "stdout",
     "output_type": "stream",
     "text": [
      "<class 'int'>\n"
     ]
    }
   ],
   "source": [
    "print(type(10))"
   ]
  },
  {
   "cell_type": "code",
   "execution_count": 8,
   "metadata": {},
   "outputs": [
    {
     "name": "stdout",
     "output_type": "stream",
     "text": [
      "<class 'float'>\n"
     ]
    }
   ],
   "source": [
    "print(type(10+3.5))"
   ]
  },
  {
   "cell_type": "code",
   "execution_count": 9,
   "metadata": {},
   "outputs": [
    {
     "name": "stdout",
     "output_type": "stream",
     "text": [
      "9.0\n",
      "36\n",
      "16\n",
      "20\n"
     ]
    }
   ],
   "source": [
    "print(18/2)\n",
    "print(18*2)\n",
    "print(18-2)\n",
    "print(18+2)"
   ]
  },
  {
   "cell_type": "code",
   "execution_count": 10,
   "metadata": {},
   "outputs": [
    {
     "name": "stdout",
     "output_type": "stream",
     "text": [
      "<class 'float'>\n",
      "<class 'int'>\n",
      "<class 'int'>\n",
      "<class 'int'>\n"
     ]
    }
   ],
   "source": [
    "print(type(18/2))\n",
    "print(type(18*2))\n",
    "print(type(18-2))\n",
    "print(type(18+2))"
   ]
  },
  {
   "cell_type": "code",
   "execution_count": null,
   "metadata": {},
   "outputs": [],
   "source": []
  }
 ],
 "metadata": {
  "kernelspec": {
   "display_name": "Python 3",
   "language": "python",
   "name": "python3"
  },
  "language_info": {
   "codemirror_mode": {
    "name": "ipython",
    "version": 3
   },
   "file_extension": ".py",
   "mimetype": "text/x-python",
   "name": "python",
   "nbconvert_exporter": "python",
   "pygments_lexer": "ipython3",
   "version": "3.7.3"
  }
 },
 "nbformat": 4,
 "nbformat_minor": 2
}
